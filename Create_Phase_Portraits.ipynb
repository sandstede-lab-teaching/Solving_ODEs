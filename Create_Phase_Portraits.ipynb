{
 "cells": [
  {
   "cell_type": "markdown",
   "metadata": {},
   "source": [
    "## Phase portraits\n",
    "In this Jupyter Notebook, we will solve systems of differential equations of the form dx/dt=f<sub>1</sub>(x,y), dy/dt=f<sub>2</sub>(x,y) graphically generating phase portraits. The next cell loads several modules needed for defining the right-hand side and for running the code. To proceed, click twice on the run button (the triangle in the top menubar) to run the current and the next cell."
   ]
  },
  {
   "cell_type": "code",
   "execution_count": 3,
   "metadata": {},
   "outputs": [],
   "source": [
    "%matplotlib widget\n",
    "from math import *\n",
    "from matplotlib.backend_bases import MouseButton\n",
    "import matplotlib.pyplot as plt\n",
    "import numpy as np\n",
    "from scipy.integrate import solve_ivp\n",
    "from scipy.optimize import fsolve\n",
    "\n",
    "toggle = False # if false, solve ODE; if true, find equilibria\n",
    "labels = [0, 1]\n",
    "    \n",
    "def generate_phase_portrait(f, xrange, yrange, tmax):\n",
    "    def rhs(t, x): return f(x[0], x[1])\n",
    "\n",
    "    def plotdf(rhs, xrange, yrange, grid, ax):\n",
    "        x = np.linspace(xrange[0], xrange[1], grid[0])\n",
    "        y = np.linspace(yrange[0], yrange[1], grid[1])\n",
    "        X, Y = np.meshgrid(x, y)\n",
    "        DX, DY = rhs(X, Y)\n",
    "        M = (np.hypot(DX, DY))\n",
    "        M[M==0] = 1.0\n",
    "        DX = DX/M\n",
    "        DY = DY/M\n",
    "        ax.quiver(X, Y, DX, DY, color='tab:green', angles='xy', alpha=0.5)\n",
    "\n",
    "    def cross_top(t, x): return yrange[1]+0.5 - x[1]\n",
    "    def cross_bot(t, x): return yrange[0]-0.5 - x[1]\n",
    "    def cross_lef(t, x): return xrange[0]-0.5 - x[0]\n",
    "    def cross_rig(t, x): return xrange[1]+0.5 - x[0]\n",
    "    cross_top.terminal = True\n",
    "    cross_bot.terminal = True\n",
    "    cross_lef.terminal = True\n",
    "    cross_rig.terminal = True\n",
    "    \n",
    "    fig, ax = plt.subplots(1, 1, figsize=(6, 6))\n",
    "    plt.subplots_adjust(bottom=0.2)\n",
    "    button = plt.axes([0.35, 0.05, 0.36, 0.05])   # [left, bottom, width, height]\n",
    "    labels[0] = button.text(0.05, 0.3, \"Click here to find equilibria\", fontsize=10)\n",
    "    labels[1] = button.text(0.10, 0.3, \"Click here to solve ODE\", fontsize=10)\n",
    "    labels[0].set_visible(True)\n",
    "    labels[1].set_visible(False)\n",
    "    button.set(xticks=[], yticks=[])\n",
    "    button.set_facecolor('tab:green')\n",
    "\n",
    "    ax.set_title(\"Phase portrait\")\n",
    "    ax.set_xlabel('x')\n",
    "    ax.set_ylabel('y')\n",
    "    ax.set_xlim(xrange)\n",
    "    ax.set_ylim(yrange)\n",
    "    ax.grid(True)\n",
    "    plotdf(f, xrange, yrange, [11, 11], ax)\n",
    "    plt.show()\n",
    "\n",
    "    def solve_ode(t, x):\n",
    "        solf = solve_ivp(rhs, [t,  tmax], x, t_eval=np.linspace(t,  tmax, 1000), \n",
    "                         events=[cross_top, cross_bot, cross_lef, cross_rig],\n",
    "                         atol=1.e-8, rtol=1.e-6)\n",
    "        solb = solve_ivp(rhs, [t, -tmax], x, t_eval=np.linspace(t, -tmax, 1000), \n",
    "                         events=[cross_top, cross_bot, cross_lef, cross_rig],\n",
    "                         atol=1.e-8, rtol=1.e-6)\n",
    "        ax.scatter(x[0], x[1], color='tab:olive', zorder=2)\n",
    "        ax.plot(solf.y[0], solf.y[1], color='tab:blue', zorder=1)\n",
    "        ax.plot(solb.y[0], solb.y[1], color='tab:blue', linestyle='dashed', zorder=1)\n",
    "\n",
    "    def on_click(event):\n",
    "        global toggle, labels\n",
    "        if event.button is MouseButton.LEFT:\n",
    "            if event.inaxes == button:\n",
    "                labels[toggle].set_visible(False)\n",
    "                toggle = not toggle\n",
    "                labels[toggle].set_visible(True)\n",
    "            if event.inaxes == ax:\n",
    "                x = event.xdata\n",
    "                y = event.ydata\n",
    "                if x>xrange[0] and x<xrange[1] and y>yrange[0] and y<yrange[1]:\n",
    "                    if toggle:\n",
    "                        equilibrium = fsolve(lambda x: f(x[0], x[1]), [x, y])\n",
    "                        ax.scatter(equilibrium[0], equilibrium[1], s=70, color='tab:red', zorder=2)\n",
    "                    else: solve_ode(0, [x, y])\n",
    "            fig.canvas.draw()\n",
    "\n",
    "    plt.connect('button_press_event', on_click)"
   ]
  },
  {
   "cell_type": "markdown",
   "metadata": {},
   "source": [
    "The next cell defines the right-hand side `f(x,y)` of our differential equation. Click again twice on the run button to execute this and the next cell. The code will create a direction field with arrows indicating the slope of the tangents of solution curves. If you position your mouse anywhere in the figure and click, the code will compute and plot the solution that starts at the location `(x,y)` of your mouse: solutions start at the grey points, solid curves correspond to t>0, and dashed curves to t<0. Try it out a few times to see what happens! You can also click on the green button on the bottom to switch to finding equilibria: once activated, click anywhere near a suspected equilibrium and the code will compute the equilibrium and plot it. Clicking again on the green button will switch back to computing solutions."
   ]
  },
  {
   "cell_type": "code",
   "execution_count": 4,
   "metadata": {
    "pycharm": {
     "name": "#%%\n"
    }
   },
   "outputs": [
    {
     "data": {
      "application/vnd.jupyter.widget-view+json": {
       "model_id": "584a039db0774ce9a7fccf686c62a0b1",
       "version_major": 2,
       "version_minor": 0
      },
      "text/plain": [
       "Canvas(toolbar=Toolbar(toolitems=[('Home', 'Reset original view', 'home', 'home'), ('Back', 'Back to previous …"
      ]
     },
     "metadata": {},
     "output_type": "display_data"
    }
   ],
   "source": [
    "def f(x, y):\n",
    "    return [y, -np.sin(x)]\n",
    "\n",
    "generate_phase_portrait(f, xrange=[-4, 4], yrange=[-3.5, 3.5], tmax=20)"
   ]
  },
  {
   "cell_type": "markdown",
   "metadata": {},
   "source": [
    "You can go back to the previous cell (click on the gray area containing the `def f(x,y):` statement) and edit the expression for f(x,y) or the values xrange, yrange, and tmax which define the regions in x and y that will be plotted and maximum value used for the time variable t that our solver will use. You can edit the expression for f that we use:\n",
    "* Make sure that you use `**` for exponents (so `x**3` means x<sup>3</sup>). If you want to use trigonometric functions, use `np.sin(x)` or `np.cos(x)` for the sine or cosine functions.\n",
    "* The code is written in Python. Python uses indentation to separate elements of the code, and you can see that the `return [x-x**2, -3*y]` statement in the definition of f(x,y) is indented: you need to leave this statement indented or the code will result in an error.\n",
    "\n",
    "If your code no longer works, try to undo the last edits (see the \"Edit\" menu om the ipper left corner) in the cells in which you made changes or, if this fails, upload the original Jupyter notebook again."
   ]
  },
  {
   "cell_type": "code",
   "execution_count": null,
   "metadata": {},
   "outputs": [],
   "source": []
  }
 ],
 "metadata": {
  "kernelspec": {
   "display_name": "Python 3",
   "language": "python",
   "name": "python3"
  },
  "language_info": {
   "codemirror_mode": {
    "name": "ipython",
    "version": 3
   },
   "file_extension": ".py",
   "mimetype": "text/x-python",
   "name": "python",
   "nbconvert_exporter": "python",
   "pygments_lexer": "ipython3",
   "version": "3.7.9"
  },
  "pycharm": {
   "stem_cell": {
    "cell_type": "raw",
    "metadata": {
     "collapsed": false
    },
    "source": []
   }
  },
  "widgets": {
   "application/vnd.jupyter.widget-state+json": {
    "state": {},
    "version_major": 2,
    "version_minor": 0
   }
  }
 },
 "nbformat": 4,
 "nbformat_minor": 4
}
